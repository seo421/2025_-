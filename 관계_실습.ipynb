{
  "nbformat": 4,
  "nbformat_minor": 0,
  "metadata": {
    "colab": {
      "provenance": [],
      "authorship_tag": "ABX9TyOh/R2Uyw0so6Vy0jnatAK5",
      "include_colab_link": true
    },
    "kernelspec": {
      "name": "python3",
      "display_name": "Python 3"
    },
    "language_info": {
      "name": "python"
    }
  },
  "cells": [
    {
      "cell_type": "markdown",
      "metadata": {
        "id": "view-in-github",
        "colab_type": "text"
      },
      "source": [
        "<a href=\"https://colab.research.google.com/github/seo421/2025_-/blob/main/%EA%B4%80%EA%B3%84_%EC%8B%A4%EC%8A%B5.ipynb\" target=\"_parent\"><img src=\"https://colab.research.google.com/assets/colab-badge.svg\" alt=\"Open In Colab\"/></a>"
      ]
    },
    {
      "cell_type": "code",
      "execution_count": 1,
      "metadata": {
        "colab": {
          "base_uri": "https://localhost:8080/"
        },
        "id": "V-svG2eu67x5",
        "outputId": "d794bf83-bcea-411d-b1e3-6c05c3a95d60"
      },
      "outputs": [
        {
          "output_type": "stream",
          "name": "stdout",
          "text": [
            "관계 R: {(2, 3), (3, 2), (1, 2), (3, 4)}\n"
          ]
        }
      ],
      "source": [
        "import numpy as np\n",
        "import networkx as nx\n",
        "import matplotlib.pyplot as plt\n",
        "\n",
        "A={1,2,3}\n",
        "B={2,3,4}\n",
        "R={(1,2), (2,3), (3,2),(3,4)}\n",
        "\n",
        "print(\"관계 R:\",R)"
      ]
    },
    {
      "cell_type": "code",
      "source": [
        "A_list=sorted(A)\n",
        "B_list=sorted(B)\n",
        "\n",
        "relation_matrix=np.zeros((len(A_list), len(B_list)), dtype=int)\n",
        "\n",
        "for i, a in enumerate(A_list):\n",
        "  for j, b in enumerate(B_list):\n",
        "    if (a,b) in R:\n",
        "      relation_matrix[i,j]=1\n",
        "\n",
        "print(\"관계 행렬(rows: A, columns: B):\")\n",
        "print(relation_matrix)"
      ],
      "metadata": {
        "colab": {
          "base_uri": "https://localhost:8080/"
        },
        "id": "gknlnqwM7dZz",
        "outputId": "a42eeca7-95f4-46df-a4d1-498fead03e04"
      },
      "execution_count": 2,
      "outputs": [
        {
          "output_type": "stream",
          "name": "stdout",
          "text": [
            "관계 행렬(rows: A, columns: B):\n",
            "[[1 0 0]\n",
            " [0 1 0]\n",
            " [1 0 1]]\n"
          ]
        }
      ]
    },
    {
      "cell_type": "code",
      "source": [
        "C={'x', 'y'}\n",
        "S={(2,'x'), (3,'y'), (4,'x')}\n",
        "\n",
        "composed_relation=set()\n",
        "\n",
        "for (a,b1) in R:\n",
        "  for (b2,c) in S:\n",
        "    if b1==b2:\n",
        "      composed_relation.add((a,c))\n",
        "\n",
        "print(\"\\n합성 관계 R∘S:\", composed_relation)"
      ],
      "metadata": {
        "colab": {
          "base_uri": "https://localhost:8080/"
        },
        "id": "GhgP__b179Lr",
        "outputId": "b0a6d64f-14e0-4881-ac03-48c4e95c38ba"
      },
      "execution_count": 3,
      "outputs": [
        {
          "output_type": "stream",
          "name": "stdout",
          "text": [
            "\n",
            "합성 관계 R∘S: {(3, 'x'), (2, 'y'), (1, 'x')}\n"
          ]
        }
      ]
    }
  ]
}